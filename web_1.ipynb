{
 "cells": [
  {
   "cell_type": "code",
   "execution_count": 1,
   "metadata": {},
   "outputs": [],
   "source": [
    "# Includes all the necessary libraries\n",
    "from libs import *"
   ]
  },
  {
   "cell_type": "code",
   "execution_count": 2,
   "metadata": {},
   "outputs": [],
   "source": [
    "# Turns list of jobs into dataframe\n",
    "def to_dataFrame(data):\n",
    "    return pd.DataFrame(data)"
   ]
  },
  {
   "cell_type": "code",
   "execution_count": 3,
   "metadata": {},
   "outputs": [],
   "source": [
    "#Web link of page\n",
    "url = 'https://uk.indeed.com/jobs?q=data%20scientist&l=London%2C%20Greater%20London&vjk=31add7b7d6ac6ea0'\n",
    "# Create chorme websdriver objects\n",
    "driver = webdriver.Chrome()\n",
    "# Get's the page url and post's to the webdriver\n",
    "driver.get(url)\n",
    "# clear the cookies pop-up\n",
    "driver.find_element(By.XPATH, '//button[text()=\"Accept All Cookies\"]').click()\n",
    "#  // ===== //\n",
    "# sleep(3)\n",
    "# # driver.close()\n"
   ]
  },
  {
   "cell_type": "code",
   "execution_count": 4,
   "metadata": {},
   "outputs": [],
   "source": [
    "'''\n",
    "Scraping for job roles\n",
    "'''\n",
    "\n",
    "titles = driver.find_elements(By.CLASS_NAME,\"jcs-JobTitle[href]\")\n",
    "roles = []\n",
    "for title in titles:\n",
    "     roles.append(title.text)\n",
    "\n",
    "\n",
    "employers = driver.find_elements(By.CLASS_NAME,'companyName')\n",
    "companies=[]\n",
    "for company in employers:\n",
    "     companies.append(company.text)\n",
    "\n",
    "job_locations = driver.find_elements(By.CLASS_NAME,'companyLocation')\n",
    "locations =[]\n",
    "for local in job_locations:\n",
    "    locations.append(local.text)\n",
    "    \n",
    "# Returns job links\n",
    "web_links = driver.find_elements(By.CLASS_NAME,'jcs-JobTitle[href]')\n",
    "links =[]\n",
    "for link in web_links:\n",
    "    links.append(link.get_attribute('href'))\n",
    "    \n",
    "# Add salary \n",
    "salary_info = driver.find_elements(By.CLASS_NAME, 'metadata salary-snippet-container')\n",
    "salary = []\n",
    "for sal  in salary_info:\n",
    "     salary.append(sal.text)\n",
    "\n",
    "\n",
    "descriptions_info = driver.find_elements(By.CLASS_NAME, 'job-snippet')\n",
    "descriptions = []\n",
    "for description in descriptions_info:\n",
    "     descriptions.append( description.text)\n",
    "\n"
   ]
  },
  {
   "cell_type": "code",
   "execution_count": 5,
   "metadata": {},
   "outputs": [],
   "source": [
    "# Create multiple data Series\n",
    "roles_series = pd.Series(roles)\n",
    "companies_series = pd.Series(companies)\n",
    "location_series = pd.Series(locations)\n",
    "links_series = pd.Series(links)\n",
    "descriptions_series = pd.Series(descriptions)\n"
   ]
  },
  {
   "cell_type": "code",
   "execution_count": 6,
   "metadata": {},
   "outputs": [
    {
     "name": "stdout",
     "output_type": "stream",
     "text": [
      "(15, 5)\n"
     ]
    }
   ],
   "source": [
    "# Created dict for data-frames\n",
    "data = {'Roles':roles_series, \n",
    "        'Companies':companies_series,\n",
    "        'Location':locations, \n",
    "        'Descriptions':descriptions_series, \n",
    "        'Links':links_series }\n",
    "# Creates data frame\n",
    "jobs = to_dataFrame(data)\n",
    "print(jobs.shape)"
   ]
  },
  {
   "cell_type": "code",
   "execution_count": 7,
   "metadata": {},
   "outputs": [
    {
     "data": {
      "text/html": [
       "<div>\n",
       "<style scoped>\n",
       "    .dataframe tbody tr th:only-of-type {\n",
       "        vertical-align: middle;\n",
       "    }\n",
       "\n",
       "    .dataframe tbody tr th {\n",
       "        vertical-align: top;\n",
       "    }\n",
       "\n",
       "    .dataframe thead th {\n",
       "        text-align: right;\n",
       "    }\n",
       "</style>\n",
       "<table border=\"1\" class=\"dataframe\">\n",
       "  <thead>\n",
       "    <tr style=\"text-align: right;\">\n",
       "      <th></th>\n",
       "      <th>Roles</th>\n",
       "      <th>Companies</th>\n",
       "      <th>Location</th>\n",
       "      <th>Descriptions</th>\n",
       "      <th>Links</th>\n",
       "    </tr>\n",
       "  </thead>\n",
       "  <tbody>\n",
       "    <tr>\n",
       "      <th>0</th>\n",
       "      <td>Data Scientist - Cricket</td>\n",
       "      <td>Pythia Sports</td>\n",
       "      <td>London SW1V</td>\n",
       "      <td>Have a deep understanding of the data, its lim...</td>\n",
       "      <td>https://uk.indeed.com/pagead/clk?mo=r&amp;ad=-6NYl...</td>\n",
       "    </tr>\n",
       "    <tr>\n",
       "      <th>1</th>\n",
       "      <td>Big Data Developer</td>\n",
       "      <td>Information Tech Consultants</td>\n",
       "      <td>London EC2A</td>\n",
       "      <td>4-6 hours a day of applied data science classr...</td>\n",
       "      <td>https://uk.indeed.com/pagead/clk?mo=r&amp;ad=-6NYl...</td>\n",
       "    </tr>\n",
       "    <tr>\n",
       "      <th>2</th>\n",
       "      <td>VP of Data Science and Experimentation</td>\n",
       "      <td>Trustpilot</td>\n",
       "      <td>London</td>\n",
       "      <td>Make analytical techniques approachable and un...</td>\n",
       "      <td>https://uk.indeed.com/pagead/clk?mo=r&amp;ad=-6NYl...</td>\n",
       "    </tr>\n",
       "    <tr>\n",
       "      <th>3</th>\n",
       "      <td>Data Analyst/Scientist</td>\n",
       "      <td>MIAC Analytics</td>\n",
       "      <td>Twickenham</td>\n",
       "      <td>The capability to extend their knowledge base ...</td>\n",
       "      <td>https://uk.indeed.com/pagead/clk?mo=r&amp;ad=-6NYl...</td>\n",
       "    </tr>\n",
       "    <tr>\n",
       "      <th>4</th>\n",
       "      <td>Head of AI</td>\n",
       "      <td>Metawin</td>\n",
       "      <td>London</td>\n",
       "      <td>Minimum 3 years of experience in AI, machine l...</td>\n",
       "      <td>https://uk.indeed.com/pagead/clk?mo=r&amp;ad=-6NYl...</td>\n",
       "    </tr>\n",
       "  </tbody>\n",
       "</table>\n",
       "</div>"
      ],
      "text/plain": [
       "                                    Roles                     Companies   \n",
       "0                Data Scientist - Cricket                 Pythia Sports  \\\n",
       "1                      Big Data Developer  Information Tech Consultants   \n",
       "2  VP of Data Science and Experimentation                    Trustpilot   \n",
       "3                  Data Analyst/Scientist                MIAC Analytics   \n",
       "4                              Head of AI                       Metawin   \n",
       "\n",
       "      Location                                       Descriptions   \n",
       "0  London SW1V  Have a deep understanding of the data, its lim...  \\\n",
       "1  London EC2A  4-6 hours a day of applied data science classr...   \n",
       "2       London  Make analytical techniques approachable and un...   \n",
       "3   Twickenham  The capability to extend their knowledge base ...   \n",
       "4       London  Minimum 3 years of experience in AI, machine l...   \n",
       "\n",
       "                                               Links  \n",
       "0  https://uk.indeed.com/pagead/clk?mo=r&ad=-6NYl...  \n",
       "1  https://uk.indeed.com/pagead/clk?mo=r&ad=-6NYl...  \n",
       "2  https://uk.indeed.com/pagead/clk?mo=r&ad=-6NYl...  \n",
       "3  https://uk.indeed.com/pagead/clk?mo=r&ad=-6NYl...  \n",
       "4  https://uk.indeed.com/pagead/clk?mo=r&ad=-6NYl...  "
      ]
     },
     "execution_count": 7,
     "metadata": {},
     "output_type": "execute_result"
    }
   ],
   "source": [
    "# Viewing top 5 results\n",
    "jobs.head()"
   ]
  },
  {
   "cell_type": "code",
   "execution_count": 8,
   "metadata": {},
   "outputs": [],
   "source": [
    "# Creates a csv with the collected data\n",
    "jobs.to_csv('today_list_1.csv', index= False)"
   ]
  }
 ],
 "metadata": {
  "interpreter": {
   "hash": "aee8b7b246df8f9039afb4144a1f6fd8d2ca17a180786b69acc140d282b71a49"
  },
  "kernelspec": {
   "display_name": "Python 3.9.6 64-bit",
   "language": "python",
   "name": "python3"
  },
  "language_info": {
   "codemirror_mode": {
    "name": "ipython",
    "version": 3
   },
   "file_extension": ".py",
   "mimetype": "text/x-python",
   "name": "python",
   "nbconvert_exporter": "python",
   "pygments_lexer": "ipython3",
   "version": "3.11.3"
  },
  "orig_nbformat": 4
 },
 "nbformat": 4,
 "nbformat_minor": 2
}
