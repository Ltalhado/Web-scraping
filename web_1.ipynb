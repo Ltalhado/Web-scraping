{
 "cells": [
  {
   "cell_type": "code",
   "execution_count": 33,
   "metadata": {},
   "outputs": [],
   "source": [
    "# Includes all the necessary libraries\n",
    "from libs import *"
   ]
  },
  {
   "cell_type": "code",
   "execution_count": 34,
   "metadata": {},
   "outputs": [],
   "source": [
    "# Turns list of jobs into data frame\n",
    "def to_dataFrame(data):\n",
    "    return pd.DataFrame(data)"
   ]
  },
  {
   "cell_type": "code",
   "execution_count": 47,
   "metadata": {},
   "outputs": [
    {
     "ename": "InvalidSelectorException",
     "evalue": "Message: invalid selector: Unable to locate an element with the xpath expression //\"button[data-testid=\"pagination-page-current\"] because of the following error:\nSyntaxError: Failed to execute 'evaluate' on 'Document': The string '//\"button[data-testid=\"pagination-page-current\"]' is not a valid XPath expression.\n  (Session info: chrome=112.0.5615.137)\nStacktrace:\n0   chromedriver                        0x0000000102545670 chromedriver + 4298352\n1   chromedriver                        0x000000010253dbbc chromedriver + 4266940\n2   chromedriver                        0x0000000102170758 chromedriver + 280408\n3   chromedriver                        0x00000001021740c8 chromedriver + 295112\n4   chromedriver                        0x0000000102173d74 chromedriver + 294260\n5   chromedriver                        0x0000000102174170 chromedriver + 295280\n6   chromedriver                        0x00000001021ab81c chromedriver + 522268\n7   chromedriver                        0x00000001021e4080 chromedriver + 753792\n8   chromedriver                        0x000000010219e2d0 chromedriver + 467664\n9   chromedriver                        0x000000010219f354 chromedriver + 471892\n10  chromedriver                        0x00000001025056c4 chromedriver + 4036292\n11  chromedriver                        0x0000000102509c64 chromedriver + 4054116\n12  chromedriver                        0x00000001025102d8 chromedriver + 4080344\n13  chromedriver                        0x000000010250a970 chromedriver + 4057456\n14  chromedriver                        0x00000001024e18dc chromedriver + 3889372\n15  chromedriver                        0x000000010252925c chromedriver + 4182620\n16  chromedriver                        0x00000001025293b4 chromedriver + 4182964\n17  chromedriver                        0x00000001025380f4 chromedriver + 4243700\n18  libsystem_pthread.dylib             0x0000000180ee7fa8 _pthread_start + 148\n19  libsystem_pthread.dylib             0x0000000180ee2da0 thread_start + 8\n",
     "output_type": "error",
     "traceback": [
      "\u001b[0;31m---------------------------------------------------------------------------\u001b[0m",
      "\u001b[0;31mInvalidSelectorException\u001b[0m                  Traceback (most recent call last)",
      "Cell \u001b[0;32mIn[47], line 9\u001b[0m\n\u001b[1;32m      7\u001b[0m \u001b[39m# clear the cookies pop-up\u001b[39;00m\n\u001b[1;32m      8\u001b[0m driver\u001b[39m.\u001b[39mfind_element(By\u001b[39m.\u001b[39mXPATH, \u001b[39m'\u001b[39m\u001b[39m//button[text()=\u001b[39m\u001b[39m\"\u001b[39m\u001b[39mAccept All Cookies\u001b[39m\u001b[39m\"\u001b[39m\u001b[39m]\u001b[39m\u001b[39m'\u001b[39m)\u001b[39m.\u001b[39mclick()\n\u001b[0;32m----> 9\u001b[0m pages \u001b[39m=\u001b[39m  driver\u001b[39m.\u001b[39;49mfind_element(By\u001b[39m.\u001b[39;49mXPATH, \u001b[39m'\u001b[39;49m\u001b[39m//\u001b[39;49m\u001b[39m\"\u001b[39;49m\u001b[39mbutton[data-testid=\u001b[39;49m\u001b[39m\"\u001b[39;49m\u001b[39mpagination-page-current\u001b[39;49m\u001b[39m\"\u001b[39;49m\u001b[39m]\u001b[39;49m\u001b[39m'\u001b[39;49m)\u001b[39m.\u001b[39mclick()\n\u001b[1;32m     12\u001b[0m \u001b[39m#  // ===== //\u001b[39;00m\n\u001b[1;32m     13\u001b[0m \u001b[39m# sleep(3)\u001b[39;00m\n\u001b[1;32m     14\u001b[0m \u001b[39m# # driver.close()\u001b[39;00m\n",
      "File \u001b[0;32m~/miniforge3/envs/finance/lib/python3.11/site-packages/selenium/webdriver/remote/webdriver.py:831\u001b[0m, in \u001b[0;36mWebDriver.find_element\u001b[0;34m(self, by, value)\u001b[0m\n\u001b[1;32m    828\u001b[0m     by \u001b[39m=\u001b[39m By\u001b[39m.\u001b[39mCSS_SELECTOR\n\u001b[1;32m    829\u001b[0m     value \u001b[39m=\u001b[39m \u001b[39mf\u001b[39m\u001b[39m'\u001b[39m\u001b[39m[name=\u001b[39m\u001b[39m\"\u001b[39m\u001b[39m{\u001b[39;00mvalue\u001b[39m}\u001b[39;00m\u001b[39m\"\u001b[39m\u001b[39m]\u001b[39m\u001b[39m'\u001b[39m\n\u001b[0;32m--> 831\u001b[0m \u001b[39mreturn\u001b[39;00m \u001b[39mself\u001b[39;49m\u001b[39m.\u001b[39;49mexecute(Command\u001b[39m.\u001b[39;49mFIND_ELEMENT, {\u001b[39m\"\u001b[39;49m\u001b[39musing\u001b[39;49m\u001b[39m\"\u001b[39;49m: by, \u001b[39m\"\u001b[39;49m\u001b[39mvalue\u001b[39;49m\u001b[39m\"\u001b[39;49m: value})[\u001b[39m\"\u001b[39m\u001b[39mvalue\u001b[39m\u001b[39m\"\u001b[39m]\n",
      "File \u001b[0;32m~/miniforge3/envs/finance/lib/python3.11/site-packages/selenium/webdriver/remote/webdriver.py:440\u001b[0m, in \u001b[0;36mWebDriver.execute\u001b[0;34m(self, driver_command, params)\u001b[0m\n\u001b[1;32m    438\u001b[0m response \u001b[39m=\u001b[39m \u001b[39mself\u001b[39m\u001b[39m.\u001b[39mcommand_executor\u001b[39m.\u001b[39mexecute(driver_command, params)\n\u001b[1;32m    439\u001b[0m \u001b[39mif\u001b[39;00m response:\n\u001b[0;32m--> 440\u001b[0m     \u001b[39mself\u001b[39;49m\u001b[39m.\u001b[39;49merror_handler\u001b[39m.\u001b[39;49mcheck_response(response)\n\u001b[1;32m    441\u001b[0m     response[\u001b[39m\"\u001b[39m\u001b[39mvalue\u001b[39m\u001b[39m\"\u001b[39m] \u001b[39m=\u001b[39m \u001b[39mself\u001b[39m\u001b[39m.\u001b[39m_unwrap_value(response\u001b[39m.\u001b[39mget(\u001b[39m\"\u001b[39m\u001b[39mvalue\u001b[39m\u001b[39m\"\u001b[39m, \u001b[39mNone\u001b[39;00m))\n\u001b[1;32m    442\u001b[0m     \u001b[39mreturn\u001b[39;00m response\n",
      "File \u001b[0;32m~/miniforge3/envs/finance/lib/python3.11/site-packages/selenium/webdriver/remote/errorhandler.py:245\u001b[0m, in \u001b[0;36mErrorHandler.check_response\u001b[0;34m(self, response)\u001b[0m\n\u001b[1;32m    243\u001b[0m         alert_text \u001b[39m=\u001b[39m value[\u001b[39m\"\u001b[39m\u001b[39malert\u001b[39m\u001b[39m\"\u001b[39m]\u001b[39m.\u001b[39mget(\u001b[39m\"\u001b[39m\u001b[39mtext\u001b[39m\u001b[39m\"\u001b[39m)\n\u001b[1;32m    244\u001b[0m     \u001b[39mraise\u001b[39;00m exception_class(message, screen, stacktrace, alert_text)  \u001b[39m# type: ignore[call-arg]  # mypy is not smart enough here\u001b[39;00m\n\u001b[0;32m--> 245\u001b[0m \u001b[39mraise\u001b[39;00m exception_class(message, screen, stacktrace)\n",
      "\u001b[0;31mInvalidSelectorException\u001b[0m: Message: invalid selector: Unable to locate an element with the xpath expression //\"button[data-testid=\"pagination-page-current\"] because of the following error:\nSyntaxError: Failed to execute 'evaluate' on 'Document': The string '//\"button[data-testid=\"pagination-page-current\"]' is not a valid XPath expression.\n  (Session info: chrome=112.0.5615.137)\nStacktrace:\n0   chromedriver                        0x0000000102545670 chromedriver + 4298352\n1   chromedriver                        0x000000010253dbbc chromedriver + 4266940\n2   chromedriver                        0x0000000102170758 chromedriver + 280408\n3   chromedriver                        0x00000001021740c8 chromedriver + 295112\n4   chromedriver                        0x0000000102173d74 chromedriver + 294260\n5   chromedriver                        0x0000000102174170 chromedriver + 295280\n6   chromedriver                        0x00000001021ab81c chromedriver + 522268\n7   chromedriver                        0x00000001021e4080 chromedriver + 753792\n8   chromedriver                        0x000000010219e2d0 chromedriver + 467664\n9   chromedriver                        0x000000010219f354 chromedriver + 471892\n10  chromedriver                        0x00000001025056c4 chromedriver + 4036292\n11  chromedriver                        0x0000000102509c64 chromedriver + 4054116\n12  chromedriver                        0x00000001025102d8 chromedriver + 4080344\n13  chromedriver                        0x000000010250a970 chromedriver + 4057456\n14  chromedriver                        0x00000001024e18dc chromedriver + 3889372\n15  chromedriver                        0x000000010252925c chromedriver + 4182620\n16  chromedriver                        0x00000001025293b4 chromedriver + 4182964\n17  chromedriver                        0x00000001025380f4 chromedriver + 4243700\n18  libsystem_pthread.dylib             0x0000000180ee7fa8 _pthread_start + 148\n19  libsystem_pthread.dylib             0x0000000180ee2da0 thread_start + 8\n"
     ]
    }
   ],
   "source": [
    "#Web link of page\n",
    "url = 'https://uk.indeed.com/jobs?q=data%20scientist&l=London%2C%20Greater%20London&vjk=31add7b7d6ac6ea0'\n",
    "# Create chorme web driver objects\n",
    "driver = webdriver.Chrome()\n",
    "# Get's the page url and post's to the webdriver\n",
    "driver.get(url)\n",
    "# clear the cookies pop-up\n",
    "driver.find_element(By.XPATH, '//button[text()=\"Accept All Cookies\"]').click()\n",
    "pages =  driver.find_element(By.XPATH, '//\"button[data-testid=\"pagination-page-current\"]').click()\n",
    "\n",
    "\n",
    "#  // ===== //\n",
    "# sleep(3)\n",
    "# # driver.close()\n"
   ]
  },
  {
   "cell_type": "code",
   "execution_count": 36,
   "metadata": {},
   "outputs": [],
   "source": [
    "'''\n",
    "Scraping for job roles\n",
    "'''\n",
    "\n",
    "titles = driver.find_elements(By.CLASS_NAME,\"jcs-JobTitle[href]\")\n",
    "roles = []\n",
    "for title in titles:\n",
    "     roles.append(title.text)\n",
    "\n",
    "\n",
    "employers = driver.find_elements(By.CLASS_NAME,'companyName')\n",
    "companies=[]\n",
    "for company in employers:\n",
    "     companies.append(company.text)\n",
    "\n",
    "job_locations = driver.find_elements(By.CLASS_NAME,'companyLocation')\n",
    "locations =[]\n",
    "for local in job_locations:\n",
    "    locations.append(local.text)\n",
    "    \n",
    "# Returns job links\n",
    "web_links = driver.find_elements(By.CLASS_NAME,'jcs-JobTitle[href]')\n",
    "links =[]\n",
    "for link in web_links:\n",
    "    links.append(link.get_attribute('href'))\n",
    "    \n",
    "# Add salary \n",
    "salary_info = driver.find_elements(By.CLASS_NAME, 'salary-snippet-container')\n",
    "salary = []\n",
    "for sal  in salary_info:\n",
    "     salary.append(sal.text)\n",
    "\n",
    "\n",
    "descriptions_info = driver.find_elements(By.CLASS_NAME, 'job-snippet')\n",
    "descriptions = []\n",
    "for description in descriptions_info:\n",
    "     descriptions.append( description.text)\n",
    "\n"
   ]
  },
  {
   "cell_type": "code",
   "execution_count": 37,
   "metadata": {},
   "outputs": [],
   "source": [
    "# Create multiple data Series\n",
    "roles_series = pd.Series(roles)\n",
    "companies_series = pd.Series(companies)\n",
    "salary_series = pd.Series(salary)\n",
    "location_series = pd.Series(locations)\n",
    "links_series = pd.Series(links)\n",
    "descriptions_series = pd.Series(descriptions)\n"
   ]
  },
  {
   "cell_type": "code",
   "execution_count": 38,
   "metadata": {},
   "outputs": [
    {
     "name": "stdout",
     "output_type": "stream",
     "text": [
      "(15, 6)\n"
     ]
    }
   ],
   "source": [
    "# Created dict for data-frames\n",
    "data = {'Roles':roles_series, \n",
    "        'Companies':companies_series,\n",
    "        'Salary': salary_series,\n",
    "        'Location':locations, \n",
    "        'Descriptions':descriptions_series, \n",
    "        'Links':links_series }\n",
    "# Creates data frame\n",
    "jobs = to_dataFrame(data)\n",
    "print(jobs.shape)"
   ]
  },
  {
   "cell_type": "code",
   "execution_count": 39,
   "metadata": {},
   "outputs": [
    {
     "data": {
      "text/html": [
       "<div>\n",
       "<style scoped>\n",
       "    .dataframe tbody tr th:only-of-type {\n",
       "        vertical-align: middle;\n",
       "    }\n",
       "\n",
       "    .dataframe tbody tr th {\n",
       "        vertical-align: top;\n",
       "    }\n",
       "\n",
       "    .dataframe thead th {\n",
       "        text-align: right;\n",
       "    }\n",
       "</style>\n",
       "<table border=\"1\" class=\"dataframe\">\n",
       "  <thead>\n",
       "    <tr style=\"text-align: right;\">\n",
       "      <th></th>\n",
       "      <th>Roles</th>\n",
       "      <th>Companies</th>\n",
       "      <th>Salary</th>\n",
       "      <th>Location</th>\n",
       "      <th>Descriptions</th>\n",
       "      <th>Links</th>\n",
       "    </tr>\n",
       "  </thead>\n",
       "  <tbody>\n",
       "    <tr>\n",
       "      <th>0</th>\n",
       "      <td>Big Data Developer</td>\n",
       "      <td>Information Tech Consultants</td>\n",
       "      <td>£25,000 - £30,000 a year</td>\n",
       "      <td>London EC2A</td>\n",
       "      <td>4-6 hours a day of applied data science classr...</td>\n",
       "      <td>https://uk.indeed.com/pagead/clk?mo=r&amp;ad=-6NYl...</td>\n",
       "    </tr>\n",
       "    <tr>\n",
       "      <th>1</th>\n",
       "      <td>Data Scientist - Cricket</td>\n",
       "      <td>Pythia Sports</td>\n",
       "      <td>£30,000 - £40,000 a year</td>\n",
       "      <td>London SW1V</td>\n",
       "      <td>Have a deep understanding of the data, its lim...</td>\n",
       "      <td>https://uk.indeed.com/pagead/clk?mo=r&amp;ad=-6NYl...</td>\n",
       "    </tr>\n",
       "    <tr>\n",
       "      <th>2</th>\n",
       "      <td>VP of Data Science and Experimentation</td>\n",
       "      <td>Trustpilot</td>\n",
       "      <td>£500 - £540 a day</td>\n",
       "      <td>London</td>\n",
       "      <td>Make analytical techniques approachable and un...</td>\n",
       "      <td>https://uk.indeed.com/pagead/clk?mo=r&amp;ad=-6NYl...</td>\n",
       "    </tr>\n",
       "    <tr>\n",
       "      <th>3</th>\n",
       "      <td>Data Analyst/Scientist</td>\n",
       "      <td>MIAC Analytics</td>\n",
       "      <td>£40,000 - £55,000 a year</td>\n",
       "      <td>Twickenham</td>\n",
       "      <td>The capability to extend their knowledge base ...</td>\n",
       "      <td>https://uk.indeed.com/pagead/clk?mo=r&amp;ad=-6NYl...</td>\n",
       "    </tr>\n",
       "    <tr>\n",
       "      <th>4</th>\n",
       "      <td>Head of AI</td>\n",
       "      <td>Metawin</td>\n",
       "      <td>£65,000 - £90,000 a year</td>\n",
       "      <td>London</td>\n",
       "      <td>Minimum 3 years of experience in AI, machine l...</td>\n",
       "      <td>https://uk.indeed.com/pagead/clk?mo=r&amp;ad=-6NYl...</td>\n",
       "    </tr>\n",
       "  </tbody>\n",
       "</table>\n",
       "</div>"
      ],
      "text/plain": [
       "                                    Roles                     Companies   \n",
       "0                      Big Data Developer  Information Tech Consultants  \\\n",
       "1                Data Scientist - Cricket                 Pythia Sports   \n",
       "2  VP of Data Science and Experimentation                    Trustpilot   \n",
       "3                  Data Analyst/Scientist                MIAC Analytics   \n",
       "4                              Head of AI                       Metawin   \n",
       "\n",
       "                     Salary     Location   \n",
       "0  £25,000 - £30,000 a year  London EC2A  \\\n",
       "1  £30,000 - £40,000 a year  London SW1V   \n",
       "2         £500 - £540 a day       London   \n",
       "3  £40,000 - £55,000 a year   Twickenham   \n",
       "4  £65,000 - £90,000 a year       London   \n",
       "\n",
       "                                        Descriptions   \n",
       "0  4-6 hours a day of applied data science classr...  \\\n",
       "1  Have a deep understanding of the data, its lim...   \n",
       "2  Make analytical techniques approachable and un...   \n",
       "3  The capability to extend their knowledge base ...   \n",
       "4  Minimum 3 years of experience in AI, machine l...   \n",
       "\n",
       "                                               Links  \n",
       "0  https://uk.indeed.com/pagead/clk?mo=r&ad=-6NYl...  \n",
       "1  https://uk.indeed.com/pagead/clk?mo=r&ad=-6NYl...  \n",
       "2  https://uk.indeed.com/pagead/clk?mo=r&ad=-6NYl...  \n",
       "3  https://uk.indeed.com/pagead/clk?mo=r&ad=-6NYl...  \n",
       "4  https://uk.indeed.com/pagead/clk?mo=r&ad=-6NYl...  "
      ]
     },
     "execution_count": 39,
     "metadata": {},
     "output_type": "execute_result"
    }
   ],
   "source": [
    "# Viewing top 5 results\n",
    "jobs.head()"
   ]
  },
  {
   "cell_type": "code",
   "execution_count": null,
   "metadata": {},
   "outputs": [],
   "source": []
  },
  {
   "cell_type": "code",
   "execution_count": 40,
   "metadata": {},
   "outputs": [],
   "source": [
    "# Creates a csv with the collected data\n",
    "jobs.to_csv('today_list_1.csv', index= False)"
   ]
  }
 ],
 "metadata": {
  "interpreter": {
   "hash": "aee8b7b246df8f9039afb4144a1f6fd8d2ca17a180786b69acc140d282b71a49"
  },
  "kernelspec": {
   "display_name": "Python 3.9.6 64-bit",
   "language": "python",
   "name": "python3"
  },
  "language_info": {
   "codemirror_mode": {
    "name": "ipython",
    "version": 3
   },
   "file_extension": ".py",
   "mimetype": "text/x-python",
   "name": "python",
   "nbconvert_exporter": "python",
   "pygments_lexer": "ipython3",
   "version": "3.11.3"
  },
  "orig_nbformat": 4
 },
 "nbformat": 4,
 "nbformat_minor": 2
}
