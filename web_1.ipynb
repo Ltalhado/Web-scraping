{
 "cells": [
  {
   "cell_type": "code",
   "execution_count": 1,
   "metadata": {},
   "outputs": [],
   "source": [
    "# Includes all the necessary libraries\n",
    "from selenium_manager import *\n",
    "from data_manger import *\n",
    "# from selenium_manager import WebDriverWait"
   ]
  },
  {
   "cell_type": "code",
   "execution_count": null,
   "metadata": {},
   "outputs": [],
   "source": [
    "# Web link of page\n",
    "url = 'https://uk.indeed.com/jobs?q=data%20scientist&l=London%2C%20Greater%20London&vjk=31add7b7d6ac6ea0'"
   ]
  },
  {
   "cell_type": "code",
   "execution_count": null,
   "metadata": {},
   "outputs": [],
   "source": [
    "\n",
    "def client_handle(url):\n",
    "    # Create chrome web driver objects\n",
    "    driver = webdriver.Chrome()\n",
    "    \"\"\"Get's the url and post \n",
    "    data the webdriver\"\"\"\n",
    "    driver.get(url)\n",
    "    # Clears the cookies pop-up\n",
    "    driver.find_element(\n",
    "        By.XPATH, '//button[text()=\"Accept All Cookies\"]').click()\n",
    "    return driver\n",
    "\n",
    "\n",
    "def to_data_frame(data):\n",
    "    return pd.DataFrame(data)\n",
    "\n",
    "# Returns job roles\n",
    "\n",
    "\n",
    "def get_roles(driver):\n",
    "    titles = driver.find_elements(By.CLASS_NAME, \"jcs-JobTitle[href]\")\n",
    "    roles = []\n",
    "    for title in titles:\n",
    "        roles.append(title.text)\n",
    "    return roles\n",
    "\n",
    "# Returns Companies names\n",
    "\n",
    "\n",
    "def get_employers(driver):\n",
    "    employers = driver.find_elements(By.CLASS_NAME, 'companyName')\n",
    "    companies = []\n",
    "    for company in employers:\n",
    "        companies.append(company.text)\n",
    "    return companies\n",
    "\n",
    "# Returns job locations\n",
    "\n",
    "\n",
    "def get_location(driver):\n",
    "    job_locations = driver.find_elements(By.CLASS_NAME, 'companyLocation')\n",
    "    locations = []\n",
    "    for local in job_locations:\n",
    "        locations.append(local.text)\n",
    "    return locations\n",
    "\n",
    "# Returns job links\n",
    "\n",
    "\n",
    "def get_links(driver):\n",
    "    web_links = driver.find_elements(By.CLASS_NAME, 'jcs-JobTitle[href]')\n",
    "    links = []\n",
    "    for link in web_links:\n",
    "        links.append(link.get_attribute('href'))\n",
    "    return links\n",
    "\n",
    "\n",
    "# Returns salary info\n",
    "def get_salary(driver):\n",
    "    salary_info = driver.find_elements(\n",
    "        By.CLASS_NAME, 'salary-snippet-container')\n",
    "    salary = []\n",
    "    for sal in salary_info:\n",
    "        salary.append(sal.text)\n",
    "    return salary\n",
    "\n",
    "\n",
    "# Returns Job description\n",
    "def get_description(driver):\n",
    "    descriptions_info = driver.find_elements(By.CLASS_NAME, 'job-snippet')\n",
    "    descriptions = []\n",
    "    for description in descriptions_info:\n",
    "        descriptions.append(description.text)\n",
    "    return descriptions\n",
    "\n",
    "\n",
    "def page_iter(driver):\n",
    "    # Navigate to the next page\n",
    "    next_button_xpath = '//*[@id=\"jobsearch-JapanPage\"]/div/div/div[5]/div[1]/nav/div[7]/a'\n",
    "    driver.find_element(By.XPATH, next_button_xpath).click()\n",
    "    return driver"
   ]
  },
  {
   "attachments": {},
   "cell_type": "markdown",
   "metadata": {},
   "source": []
  },
  {
   "cell_type": "code",
   "execution_count": null,
   "metadata": {},
   "outputs": [],
   "source": [
    "# Extracting data from functions\n",
    "roles = get_roles(driver)\n",
    "companies = get_employers(driver)\n",
    "salary = get_salary(driver)\n",
    "locations = get_location(driver)\n",
    "links = get_links(driver)\n",
    "descriptions = get_description(driver)"
   ]
  },
  {
   "cell_type": "code",
   "execution_count": null,
   "metadata": {},
   "outputs": [],
   "source": [
    "# Create multiple data Series\n",
    "roles_series = pd.Series(roles)\n",
    "companies_series = pd.Series(companies)\n",
    "salary_series = pd.Series(salary)\n",
    "location_series = pd.Series(locations)\n",
    "links_series = pd.Series(links)\n",
    "descriptions_series = pd.Series(descriptions)"
   ]
  },
  {
   "cell_type": "code",
   "execution_count": null,
   "metadata": {},
   "outputs": [],
   "source": [
    "if __name__ == '__main__':\n",
    "    driver = client_handle(url)"
   ]
  },
  {
   "cell_type": "code",
   "execution_count": null,
   "metadata": {},
   "outputs": [],
   "source": [
    "# # Created dict for data Series\n",
    "job_postings = {'Roles': roles_series,\n",
    "                'Companies': companies_series,\n",
    "                'Salary': salary_series,\n",
    "                'Location': locations,\n",
    "                'Descriptions': descriptions_series,\n",
    "                'Links': links_series}\n",
    "# Creates data frame\n",
    "data = to_data_frame(job_postings)"
   ]
  },
  {
   "cell_type": "code",
   "execution_count": null,
   "metadata": {},
   "outputs": [],
   "source": [
    "# # Creates a csv with the collected data\n",
    "data.to_csv('today_list_1.csv', index=False)"
   ]
  }
 ],
 "metadata": {
  "interpreter": {
   "hash": "aee8b7b246df8f9039afb4144a1f6fd8d2ca17a180786b69acc140d282b71a49"
  },
  "kernelspec": {
   "display_name": "Python 3.9.6 64-bit",
   "language": "python",
   "name": "python3"
  },
  "language_info": {
   "codemirror_mode": {
    "name": "ipython",
    "version": 3
   },
   "file_extension": ".py",
   "mimetype": "text/x-python",
   "name": "python",
   "nbconvert_exporter": "python",
   "pygments_lexer": "ipython3",
   "version": "3.11.3"
  },
  "orig_nbformat": 4
 },
 "nbformat": 4,
 "nbformat_minor": 2
}
